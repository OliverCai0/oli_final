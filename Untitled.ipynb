{
 "cells": [
  {
   "cell_type": "code",
   "execution_count": 68,
   "metadata": {},
   "outputs": [],
   "source": [
    "d = open('Room.obj','r')\n",
    "d_r = d.read()\n",
    "d.close()\n",
    "n = open('room_map','w+')"
   ]
  },
  {
   "cell_type": "code",
   "execution_count": 69,
   "metadata": {},
   "outputs": [],
   "source": [
    "d_r = d_r.split('\\n')"
   ]
  },
  {
   "cell_type": "code",
   "execution_count": 70,
   "metadata": {},
   "outputs": [
    {
     "name": "stdout",
     "output_type": "stream",
     "text": [
      "2395691\n"
     ]
    }
   ],
   "source": [
    "print(len(d_r))"
   ]
  },
  {
   "cell_type": "code",
   "execution_count": 71,
   "metadata": {},
   "outputs": [
    {
     "name": "stdout",
     "output_type": "stream",
     "text": [
      "2395691\n"
     ]
    }
   ],
   "source": [
    "p = 0\n",
    "for line in d_r:\n",
    "    if 'v ' in line:\n",
    "        l_line = line.split(' ')\n",
    "        #print(l_line)\n",
    "        n.write('v ' + str(1 * (float(l_line[1]))) + ' ' +\n",
    "                str(1 * (float(l_line[2]))) + ' ' +\n",
    "                l_line[3] + '\\n')\n",
    "    elif 'f ' in line:\n",
    "        l_line = line.split(' ')\n",
    "        if len(l_line) < 5:\n",
    "            n.write('f ' + l_line[1].split('/')[0] + ' ' + l_line[2].split('/')[1] +\n",
    "                    ' ' + l_line[3].split('/')[0] + '\\n')\n",
    "    p += 1\n",
    "print(p)"
   ]
  },
  {
   "cell_type": "code",
   "execution_count": 72,
   "metadata": {},
   "outputs": [],
   "source": [
    "n.close()"
   ]
  },
  {
   "cell_type": "code",
   "execution_count": null,
   "metadata": {},
   "outputs": [],
   "source": []
  },
  {
   "cell_type": "code",
   "execution_count": null,
   "metadata": {},
   "outputs": [],
   "source": []
  }
 ],
 "metadata": {
  "kernelspec": {
   "display_name": "Python 3.7.3 64-bit ('base': conda)",
   "language": "python",
   "name": "python37364bitbaseconda0f212a338f9f480291d51c3a8f428b0b"
  },
  "language_info": {
   "codemirror_mode": {
    "name": "ipython",
    "version": 3
   },
   "file_extension": ".py",
   "mimetype": "text/x-python",
   "name": "python",
   "nbconvert_exporter": "python",
   "pygments_lexer": "ipython3",
   "version": "3.7.3"
  }
 },
 "nbformat": 4,
 "nbformat_minor": 2
}
